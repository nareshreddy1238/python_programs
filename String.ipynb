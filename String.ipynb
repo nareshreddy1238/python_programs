{
 "cells": [
  {
   "cell_type": "code",
   "execution_count": 34,
   "id": "0234dcdf-0e05-4f01-8105-3adc059505a0",
   "metadata": {},
   "outputs": [
    {
     "name": "stdout",
     "output_type": "stream",
     "text": [
      "len of string: 20\n",
      "max value: y\n",
      "min value:  \n",
      "join method: h_i_ _h_e_l_l_o_ _h_o_w_ _a_r_e_ _y_o_u\n",
      "sorting: [' ', ' ', ' ', ' ', 'a', 'e', 'e', 'h', 'h', 'h', 'i', 'l', 'l', 'o', 'o', 'o', 'r', 'u', 'w', 'y']\n",
      "capitalize: Hi hello how are you\n",
      "titile: Hi Hello How Are You\n",
      "lower case: hi hello how are you\n",
      "upper case: HI HELLO HOW ARE YOU\n",
      "reverse case: HI HELLO HOW ARE YOU\n",
      "2\n",
      "find the index: 4\n",
      "filled with zero hi hello how are you\n",
      "index of the value: 4\n",
      "split the words or char: ['hi', 'hello', 'how', 'are', 'you']\n",
      "split lines ['hi hello how are you']\n",
      "replace the word: hi nani how are you\n",
      "strip first & last chars like zeros: this is string example....wow!!!\n",
      "remove spaces of string: geeks for geeks\n",
      "lstrip: hi hello how are you\n",
      "rstrip: hi hello how are you\n",
      "starts with: True\n",
      "ends with: False\n",
      "is alpha numric: False\n",
      "is alpha: False\n",
      "is lower: True\n",
      "is upper: False\n",
      "is digit False\n",
      "is numeric: False\n"
     ]
    }
   ],
   "source": [
    "### All String Methods\n",
    "\n",
    "s= \"hi hello how are you\"\n",
    "\n",
    "#1. Slicing\n",
    "s[1:3]\n",
    "s[1::4]\n",
    "s[1]\n",
    "s[-1]\n",
    "s[::-1]\n",
    "s[-9:-1]\n",
    "\n",
    "#2. len(): len of the string\n",
    "print(\"len of string:\",len(s))\n",
    "\n",
    "#3. max() & min()\n",
    "print(\"max value:\", max(s))\n",
    "print(\"min value:\", min(s))\n",
    "\n",
    "#4.join():  \n",
    "print(\"join method:\", \"_\".join(s))\n",
    "\n",
    "#5.sorted(): sorting \n",
    "print(\"sorting:\",sorted(s))\n",
    "\n",
    "#6. capitalize(): only fisrt letter capital \n",
    "print(\"capitalize:\",s.capitalize())\n",
    "\n",
    "#7. titile(): first every letter of word to be capital \n",
    "print(\"titile:\",s.title())\n",
    "\n",
    "#8.lower(): to be lower case\n",
    "print(\"lower case:\", s.lower())\n",
    "\n",
    "#9.upper(): to be upper case\n",
    "print(\"upper case:\", s.upper())\n",
    "\n",
    "#10.swapcase(): to be reverse case\n",
    "print(\"reverse case:\",s.swapcase())\n",
    "\n",
    "#11.count(): count char\n",
    "print(s.count('l'))\n",
    "      \n",
    "#12. find(): index value\n",
    "print(\"find the index:\", s.find('e'))\n",
    "\n",
    "#13. zfill(): zero fill \n",
    "print(\"filled with zero\", s.zfill(20))\n",
    "      \n",
    "#14.index(): index value\n",
    "print(\"index of the value:\", s.index('e'))\n",
    "      \n",
    "#15.split(): split the words or char, returns the list format \n",
    "print(\"split the words or char:\", s.split())\n",
    "print(\"split lines\", s.splitlines())\n",
    "\n",
    "#16.replace(): \n",
    "print(\"replace the word:\",s.replace('hello','nani'))\n",
    "\n",
    "#17.strip():  char or spaces remove from beginning or end \n",
    "str = \"0000000this is string example....wow!!!0000000\"\n",
    "print(\"strip first & last chars like zeros:\", str.strip('0'))\n",
    "string = \"\"\"    geeks for geeks    \"\"\"\n",
    "print(\"remove spaces of string:\",string.strip())\n",
    "print(\"lstrip:\",s.lstrip())    \n",
    "print(\"rstrip:\",s.rstrip())    \n",
    "\n",
    "#18.string conditions checking:\n",
    "print(\"starts with:\", s.startswith('h'))    \n",
    "print(\"ends with:\",s.endswith('l'))       \n",
    "print(\"is alpha numric:\",s.isalnum())             \n",
    "print(\"is alpha:\",s.isalpha())               \n",
    "print(\"is lower:\", s.islower())               \n",
    "print(\"is upper:\", s.isupper())              \n",
    "print(\"is digit\", s.isdigit())         \n",
    "print(\"is numeric:\",s.isnumeric())  \n"
   ]
  },
  {
   "cell_type": "code",
   "execution_count": 35,
   "id": "14877ee1-889b-4909-8f4d-821adae5f716",
   "metadata": {},
   "outputs": [
    {
     "name": "stdout",
     "output_type": "stream",
     "text": [
      "length of string: 30\n"
     ]
    }
   ],
   "source": [
    "### 2. calculate length of string \n",
    "str1 = \"hi hello how are you my friend\"\n",
    "len(str1)\n",
    "\n",
    "c=0\n",
    "for i in str1:\n",
    "   c+=1\n",
    "print(\"length of string:\", c)"
   ]
  },
  {
   "cell_type": "code",
   "execution_count": 38,
   "id": "81c209d9-459a-4414-bf68-9702a7935dba",
   "metadata": {},
   "outputs": [
    {
     "name": "stdout",
     "output_type": "stream",
     "text": [
      "{'h': 3, 'i': 2, ' ': 6, 'e': 3, 'l': 2, 'o': 3, 'w': 1, 'a': 1, 'r': 2, 'y': 2, 'u': 1, 'm': 1, 'f': 1, 'n': 1, 'd': 1}\n",
      "{'h': 6, 'i': 4, ' ': 12, 'e': 6, 'l': 4, 'o': 6, 'w': 2, 'a': 2, 'r': 4, 'y': 4, 'u': 2, 'm': 2, 'f': 2, 'n': 2, 'd': 2}\n"
     ]
    }
   ],
   "source": [
    "### 3. char count \n",
    "str2 = \"hi hello how are you my friend\"\n",
    "\n",
    "d={}\n",
    "for i in str2:\n",
    "    if i in d:\n",
    "        d[i]+=1\n",
    "    else:\n",
    "        d[i]=1\n",
    "print(d)\n",
    "\n",
    "##or\n",
    "d1={}\n",
    "for i in str2:\n",
    "    d[i] = d.get(i,0)+1\n",
    "print(d)"
   ]
  },
  {
   "cell_type": "code",
   "execution_count": 42,
   "id": "1e52f003-6e85-43d8-96b9-4312d6c0d625",
   "metadata": {},
   "outputs": [
    {
     "name": "stdout",
     "output_type": "stream",
     "text": [
      "{'hi': 1, 'hello': 1, 'how': 1, 'are': 1, 'you': 1, 'my': 1, 'friend': 1}\n"
     ]
    }
   ],
   "source": [
    "### 4. word count \n",
    "\n",
    "str1 = \"hi hello how are you my friend\"\n",
    "d={}\n",
    "for i in str1.split():\n",
    "    d[i]=d.get(i,0)+1\n",
    "print(d)\n"
   ]
  },
  {
   "cell_type": "code",
   "execution_count": 45,
   "id": "c75f3443-d663-437f-ba53-aaa50ad0165e",
   "metadata": {},
   "outputs": [
    {
     "name": "stdout",
     "output_type": "stream",
     "text": [
      "dneirf ym uoy era woh olleh ih"
     ]
    }
   ],
   "source": [
    "### 5. string reverse\n",
    "\n",
    "str1 = \"hi hello how are you my friend\"\n",
    "##print(str1[::-1])\n",
    "l=len(str1)\n",
    "ind=l-1\n",
    "while ind!=-1:\n",
    "    print(str1[ind],end=\"\")\n",
    "    ind=ind-1"
   ]
  },
  {
   "cell_type": "code",
   "execution_count": 49,
   "id": "eb42ff5a-88e2-407b-a187-7ec05d351c06",
   "metadata": {},
   "outputs": [
    {
     "name": "stdin",
     "output_type": "stream",
     "text": [
      "Enter string: malayalam\n"
     ]
    },
    {
     "name": "stdout",
     "output_type": "stream",
     "text": [
      "malayalam\n",
      "palindrom\n"
     ]
    }
   ],
   "source": [
    "### 6. String palindrome or not\n",
    "\n",
    "n =input(\"Enter string:\")\n",
    "l=len(n)\n",
    "ind=l-1\n",
    "s=\"\"\n",
    "while ind!=-1:\n",
    "    s=s+n[ind]\n",
    "    ind=ind-1\n",
    "print(s)\n",
    "if n==s:\n",
    "    print(\"palindrom\")\n",
    "else:\n",
    "    print(\"not palindrom\")"
   ]
  },
  {
   "cell_type": "code",
   "execution_count": 50,
   "id": "6cef5db0-6538-458c-8e6a-3978ef39d01e",
   "metadata": {},
   "outputs": [
    {
     "name": "stdout",
     "output_type": "stream",
     "text": [
      "hi elowaryumfndt\n"
     ]
    }
   ],
   "source": [
    "### 7. remove the duplicate chars in string\n",
    "\n",
    "str1=\"hi hello how are you hi my friend in the\"\n",
    "s=\"\"\n",
    "for i in str1:\n",
    "    if i not in s:\n",
    "        s=s+i\n",
    "print(s)"
   ]
  },
  {
   "cell_type": "code",
   "execution_count": 59,
   "id": "80352c73-e004-42a8-a042-af8fc9590065",
   "metadata": {},
   "outputs": [
    {
     "name": "stdout",
     "output_type": "stream",
     "text": [
      "hi hello how are you my friend in the \n"
     ]
    }
   ],
   "source": [
    "### 8. remove the duplicate words in string\n",
    "\n",
    "str1=\"hi hello how are you hi my friend in the\"\n",
    "s=\"\"\n",
    "for i in str1.split():\n",
    "    if i not in s:\n",
    "        s=s+i+\" \"\n",
    "print(s)\n",
    "\n",
    "## \"\".join(set(str1))"
   ]
  },
  {
   "cell_type": "code",
   "execution_count": 61,
   "id": "12c3811e-8485-4776-a3f2-925cb0a51a86",
   "metadata": {},
   "outputs": [
    {
     "name": "stdout",
     "output_type": "stream",
     "text": [
      "i eo o ae ou \n"
     ]
    }
   ],
   "source": [
    "### 9. string match only vowels\n",
    "\n",
    "str1=\"hi hello how are you \"\n",
    "vowels = \"aeiou AEIOU\"\n",
    "s=\"\"\n",
    "for i in str1:\n",
    "    if i in vowels:\n",
    "        s=s+i\n",
    "print(s)"
   ]
  },
  {
   "cell_type": "code",
   "execution_count": 124,
   "id": "3d095cfb-e551-4515-b355-4170a051b762",
   "metadata": {},
   "outputs": [
    {
     "name": "stdout",
     "output_type": "stream",
     "text": [
      "hello\n",
      "['are', 'hello', 'hi', 'how', 'you']\n"
     ]
    }
   ],
   "source": [
    "### 10.longest word in sentance\n",
    "\n",
    "str1=\"hi hello how are you \"\n",
    "max_val = 0\n",
    "for i in str1.split():\n",
    "    if len(i) > max_val:\n",
    "        max_val = len(i)\n",
    "        w=i\n",
    "print(w)"
   ]
  },
  {
   "cell_type": "code",
   "execution_count": 111,
   "id": "2afedc88-640f-4371-9ade-421ef1d7e3dc",
   "metadata": {},
   "outputs": [
    {
     "name": "stdin",
     "output_type": "stream",
     "text": [
      "remove the char in string: 9\n"
     ]
    },
    {
     "name": "stdout",
     "output_type": "stream",
     "text": [
      "hi hello ow are you\n"
     ]
    }
   ],
   "source": [
    "### 11. remove the ith no of char in string\n",
    "n=int(input(\"remove the char in string:\")) \n",
    "s=\"hi hello how are you\"\n",
    "m=\"\"\n",
    "for i in range(len(s)):\n",
    "    if n!=i:\n",
    "        m=m+s[i]\n",
    "print(m)"
   ]
  },
  {
   "cell_type": "code",
   "execution_count": 143,
   "id": "3528fef6-c8be-4bdd-9e8c-d3197ae8656e",
   "metadata": {},
   "outputs": [
    {
     "data": {
      "text/plain": [
       "'HELLo how are you'"
      ]
     },
     "execution_count": 143,
     "metadata": {},
     "output_type": "execute_result"
    }
   ],
   "source": [
    "### 12. Slicing programs\n",
    "\n",
    "#12.1 first 2 char + last 2 char \n",
    "s=\"Naresh Reddy neddy Niraj\"\n",
    "s[:2]+s[-2:]\n",
    "\n",
    "#12.2 first char occurance change to $ in string if it repeat\n",
    "char=s[0]\n",
    "s=s.replace(s[0],'$')\n",
    "s=char+s[1:]\n",
    "s\n",
    "\n",
    "#12.3 first two strings swap first two char in string \n",
    "sample:\"xyz abc\"\n",
    "output: \"xyc abz\"\n",
    "s1=\"abc\"\n",
    "s2=\"xyz\"\n",
    "r1= s2[:2]+s1[2:]\n",
    "r2= s1[:2]+s2[2:]\n",
    "r1+\" \"+r2\n",
    "\n",
    "#12.4 \"ing\" add if string length 3 or more, if already string ends with ing then add \"ly\" if less the 3 not change \n",
    "sample: \"abc\"\n",
    "expect: \"abcing\"\n",
    "sample: \"string\"\n",
    "expect: \"stringly\"\n",
    "s=\"abc\"\n",
    "if len(s) >= 3:\n",
    "    if s[-3:]==\"ing\":\n",
    "        s=s+\"ly\"\n",
    "    else:\n",
    "        s=s+\"ing\"\n",
    "s\n",
    "\n",
    "#12.5 first & last char exchange\n",
    "s= \"Hello\"\n",
    "s[-1]+s[1:-1]+s[0]\n",
    "\n",
    "#12.6 insert string like \n",
    "sample: \"[[]]\"\n",
    "word=\"Python\"\n",
    "output: \"[[Python]]\"\n",
    "s=\"[[]]\"\n",
    "s[:2]+word+s[2:]\n",
    "\n",
    "#12.7 atleast 4 char is upper case in string\n",
    "s=\"hello how are you\"\n",
    "s[:4].upper()+s[4:]"
   ]
  },
  {
   "cell_type": "code",
   "execution_count": 146,
   "id": "59a404c0-f161-4e51-8624-e522a2232ab9",
   "metadata": {},
   "outputs": [
    {
     "name": "stdout",
     "output_type": "stream",
     "text": [
      "66\n"
     ]
    }
   ],
   "source": [
    "### 13. sum of digits in string \n",
    "\n",
    "s=\"123 hi hello 456 how are 678 and 987\"\n",
    "c=0\n",
    "for i in s:\n",
    "    if i.isdigit():\n",
    "        c=c+int(i) ## type casting convert string to int\n",
    "print(c)"
   ]
  },
  {
   "cell_type": "code",
   "execution_count": null,
   "id": "81250b99-e26f-4a76-ba8d-24f4550cbce6",
   "metadata": {},
   "outputs": [],
   "source": []
  }
 ],
 "metadata": {
  "kernelspec": {
   "display_name": "Python 3 (ipykernel)",
   "language": "python",
   "name": "python3"
  },
  "language_info": {
   "codemirror_mode": {
    "name": "ipython",
    "version": 3
   },
   "file_extension": ".py",
   "mimetype": "text/x-python",
   "name": "python",
   "nbconvert_exporter": "python",
   "pygments_lexer": "ipython3",
   "version": "3.10.9"
  }
 },
 "nbformat": 4,
 "nbformat_minor": 5
}
