{
 "cells": [
  {
   "cell_type": "code",
   "execution_count": 21,
   "id": "30990163-96f7-4227-8ace-ee9d0838399c",
   "metadata": {},
   "outputs": [
    {
     "name": "stdout",
     "output_type": "stream",
     "text": [
      "keys: dict_keys([1, 2, 3])\n",
      "values: dict_values(['a', 'b', 'c'])\n",
      "items: dict_items([(1, 'a'), (2, 'b'), (3, 'c')])\n",
      "get: b\n",
      "copy {1: 'a', 2: 'b', 3: 'c'}\n",
      "formkeys: {'key1': 0, 'key2': 0, 'key3': 0}\n",
      "setdefault key is present: {'a': 1, 'b': 2, 'c': 3}\n",
      "set default key is not present present: {'a': 1, 'b': 2, 'c': 3, 'd': 10}\n",
      "update {1: 'a', 2: 'b', 3: 'c', 4: 'd'}\n",
      "pop {1: 'a', 2: 'b'}\n",
      "popitem: {1: 'a', 2: 'b'}\n",
      "Key 'a' is present.\n"
     ]
    }
   ],
   "source": [
    "### 1. Dict Methods\n",
    "d = {1:'a',2:'b',3:'c'}\n",
    "\n",
    "#keys(): returns keys in list format\n",
    "print(\"keys:\",d.keys())   \n",
    "\n",
    "#values(): returns Values in list format\n",
    "print(\"values:\",d.values())\n",
    "      \n",
    "#items(): returns both key & values in list of tuples\n",
    "print(\"items:\",d.items())\n",
    "\n",
    "#get(): returns the value for specified key \n",
    "print(\"get:\",d.get(2))\n",
    "     \n",
    "#copy(): copy the dictionary\n",
    "x = d.copy()\n",
    "print(\"copy\",x)\n",
    "      \n",
    "#fromkeys(): set the values for keys \n",
    "x = ('key1', 'key2', 'key3')\n",
    "y = 0\n",
    "d = dict.fromkeys(x, y)\n",
    "print(\"formkeys:\",d)\n",
    "\n",
    "\"\"\"setdefault(): Returns the value of the specified key. \n",
    "              If the key does not exist: insert the key, with the specified value.\"\"\"\n",
    "my_dict = {'a': 1, 'b': 2, 'c': 3}\n",
    "value = my_dict.setdefault('a', 10)\n",
    "print(\"setdefault key is present:\",my_dict)  # Output: 1 --> key is present\n",
    "value = my_dict.setdefault('d', 10)          # Output: 10 --> key is not present\n",
    "print(\"set default key is not present present:\",my_dict)  # Output: {'a': 1, 'b': 2, 'c': 3, 'd': 10}\n",
    "     \n",
    "#update(): update specified dictionary items\n",
    "d1= {1:'a',2:'b',3:'c'} \n",
    "x = d1.update({4:'d'})\n",
    "print(\"update\",d1)\n",
    "          \n",
    "#clear(): remove the all elements in dictionary \n",
    "d={1:'a',2:'b',3:'c'}\n",
    "d.clear()\n",
    "    \n",
    "#pop(): remove specified item in dictionary\n",
    "d1= {1:'a',2:'b',3:'c'} \n",
    "d1.pop(3)\n",
    "print(\"pop\",d1)\n",
    "      \n",
    "#popitem(): remove last inserted items\n",
    "d1= {1:'a',2:'b',3:'c'} \n",
    "d1.popitem()\n",
    "print(\"popitem:\",d1)\n",
    "      \n",
    "#haskey(): check the key or not\n",
    "my_dict = {'a': 1, 'b': 2, 'c': 3}\n",
    "\"\"\" python2 \n",
    "if my_dict.has_key('a'):\n",
    "    print(\"Key 'a' is present.\")\n",
    "else:\n",
    "    print(\"Key 'a' is not present.\")\"\"\"\n",
    "#python3: instead of haskey using operators\n",
    "my_dict = {'a': 1, 'b': 2, 'c': 3}\n",
    "if 'a' in my_dict:\n",
    "    print(\"Key 'a' is present.\")\n",
    "else:\n",
    "    print(\"Key 'a' is not present.\")\n",
    "\n",
    "\n"
   ]
  },
  {
   "cell_type": "code",
   "execution_count": 23,
   "id": "90ff9548-ac8d-42c5-a89d-37ceb2056df9",
   "metadata": {},
   "outputs": [
    {
     "name": "stdout",
     "output_type": "stream",
     "text": [
      "{'a': 1, 'b': 2, 'c': 3, 'd': 4, 'e': 5, 'f': 6, 'g': 7}\n"
     ]
    }
   ],
   "source": [
    "### 2. convert mul dicts into one dict\n",
    "d1={'a':1,'b':2,'c':3}\n",
    "d2={'d':4,'e':5}\n",
    "d3={'f':6,'g':7}\n",
    "d4={}\n",
    "for i in (d1,d2,d3):\n",
    "    d4.update(i)\n",
    "print(d4)"
   ]
  },
  {
   "cell_type": "code",
   "execution_count": 34,
   "id": "de981ed0-c4ad-43f2-8147-cf79bf442231",
   "metadata": {},
   "outputs": [
    {
     "name": "stdout",
     "output_type": "stream",
     "text": [
      "{'a': 1, 'b': 4, 'c': 9, 'd': 16, 'e': 25, 'f': 36, 'g': 49}\n",
      "{'a': 1, 'b': 16, 'c': 81, 'd': 256, 'e': 625, 'f': 1296, 'g': 2401}\n",
      "{'a': 1, 'b': 16, 'c': 81, 'd': 256, 'e': 625, 'f': 1296, 'g': 2401}\n"
     ]
    }
   ],
   "source": [
    "### 3. Square of the values \n",
    "d={'a': 1, 'b': 2, 'c': 3, 'd': 4, 'e': 5, 'f': 6, 'g': 7}\n",
    "for k in d:\n",
    "    d[k]=d[k]**2\n",
    "print(d)\n",
    "\n",
    "#method2:\n",
    "print({k:d[k]**2 for k in d})\n",
    "print({x:y**2 for x,y in d.items()})"
   ]
  },
  {
   "cell_type": "code",
   "execution_count": 41,
   "id": "ed8e4af3-53d4-4fbd-b8ad-35dd44854c89",
   "metadata": {},
   "outputs": [
    {
     "name": "stdout",
     "output_type": "stream",
     "text": [
      "20\n",
      "Maximum value: 15\n",
      "Maximum value: 12\n"
     ]
    }
   ],
   "source": [
    "### 4. max value in dict \n",
    "\n",
    "#method1:\n",
    "d = {'a': 10, 'b': 5, 'c': 20}\n",
    "print(max(d.values()))\n",
    "\n",
    "#method2: only numeric\n",
    "d1 = {'a': 10, 'b': 15, 'c': 11}\n",
    "m = 0\n",
    "for val in d1.values():\n",
    "    if val > m:\n",
    "        m = val\n",
    "print(\"Maximum value:\", m)\n",
    "\n",
    "#method: both numeric/string\n",
    "d2 = {'a': 10, 'b': 5, 'c': 8, 'd': 12}\n",
    "m = None\n",
    "for v in d2.values():\n",
    "    if m is None or v > m:\n",
    "        m = v\n",
    "print(\"Maximum value:\", m)"
   ]
  },
  {
   "cell_type": "code",
   "execution_count": 42,
   "id": "2c8df59e-32ed-4903-bdce-1fb6dafa7be6",
   "metadata": {},
   "outputs": [
    {
     "name": "stdout",
     "output_type": "stream",
     "text": [
      "Maximum value: d\n"
     ]
    }
   ],
   "source": [
    "### 4. max key in dict \n",
    "d2 = {'a': 10, 'b': 5, 'c': 8, 'd': 12}\n",
    "m = None\n",
    "for k in d2.keys():\n",
    "    if m is None or k > m:\n",
    "        m = k\n",
    "print(\"Maximum value:\", m)"
   ]
  },
  {
   "cell_type": "code",
   "execution_count": 52,
   "id": "6979a1f6-0982-4179-bc40-9caa03fd8abd",
   "metadata": {},
   "outputs": [
    {
     "name": "stdout",
     "output_type": "stream",
     "text": [
      "remove the duplicate key: {'a': 1, 'b': 2, 'c': 3, 'd': 2, 'e': 5}\n",
      "remove the duplicate key: {'a': 1, 'b': 2, 'c': 3, 'd': 2, 'e': 5}\n"
     ]
    }
   ],
   "source": [
    "### 5. remove duplicate keys in dict\n",
    "d ={'a':1,'b': 2,'c': 3,'d': 2,'e': 4,'e':5}\n",
    "n={}\n",
    "for k,v in d.items():\n",
    "    if k not in n:\n",
    "        n[k]=v\n",
    "print(\"remove the duplicate key:\",n)"
   ]
  },
  {
   "cell_type": "code",
   "execution_count": 53,
   "id": "c16f7bb2-eac0-42f9-a6a3-270f6bc88382",
   "metadata": {},
   "outputs": [
    {
     "name": "stdout",
     "output_type": "stream",
     "text": [
      "{'a': 1, 'b': 2, 'c': 3, 'e': 5}\n"
     ]
    }
   ],
   "source": [
    "### 6. remove duplicate values in dict\n",
    "d1 ={'a':1,'b': 2,'c': 5,'d': 2,'e': 4,'e':5}\n",
    "values = set()\n",
    "n1={}\n",
    "for k,v in d.items():\n",
    "    if v not in values:\n",
    "        values.add(v)\n",
    "        n1[k] = v\n",
    "print(n1)"
   ]
  },
  {
   "cell_type": "code",
   "execution_count": 55,
   "id": "73a18dfe-4ca8-486d-a74c-b1504ee03f1d",
   "metadata": {},
   "outputs": [
    {
     "name": "stdout",
     "output_type": "stream",
     "text": [
      "{'a': 1, 'b': 2, 'c': 5}\n"
     ]
    }
   ],
   "source": [
    "### 7.remove duplicate items: keys & values same time\n",
    "d ={'a':1,'b': 2,'c': 5,'d': 2,'e': 4,'e':5}\n",
    "val = set()\n",
    "n={}\n",
    "for k,v in d.items():\n",
    "    if k not in n and v not in val:\n",
    "            val.add(v)\n",
    "            n[k] = v\n",
    "print(n)"
   ]
  },
  {
   "cell_type": "code",
   "execution_count": 69,
   "id": "9fdc22fd-8b62-437e-a8bc-8f4dbeee152d",
   "metadata": {},
   "outputs": [
    {
     "name": "stdout",
     "output_type": "stream",
     "text": [
      "{'a': 1, 'b': 2, 'c': 5}\n"
     ]
    }
   ],
   "source": [
    "### 8.unique values in dict (remove the duplicates keys and values)\n",
    "d ={'a':1,'b': 2,'c': 5,'d': 2,'e': 4,'e':5}\n",
    "n={}\n",
    "for k,v in d.items():\n",
    "    if k not in n.keys() and v not in n.values():\n",
    "        n[k]=v\n",
    "print(n)"
   ]
  },
  {
   "cell_type": "code",
   "execution_count": 82,
   "id": "9a5ad873-00d5-4b42-bf68-b71548e61a9f",
   "metadata": {},
   "outputs": [
    {
     "name": "stdout",
     "output_type": "stream",
     "text": [
      "common keys: {'b': 2, 'c': 3, 'd': 4}\n",
      "common values: {'b': 2, 'c': 3, 'd': 4}\n",
      "common values: {'b': 4, 'c': 4, 'd': 4}\n"
     ]
    }
   ],
   "source": [
    "### 9.common values in dict\n",
    "d1 = {'a': 1, 'b': 2, 'c': 3, 'd': 4}\n",
    "d2 = {'b': 2, 'c': 3, 'd': 4, 'e': 5}\n",
    "d={}\n",
    "for k,v in d1.items():\n",
    "    if k in d2.keys():\n",
    "        d[k]=v\n",
    "print(\"common keys:\",d)\n",
    "\n",
    "d3={}\n",
    "for k1,v1 in d1.items():\n",
    "    if v1 in d2.values():\n",
    "        d3[k1]=v1\n",
    "print(\"common values:\",d3)"
   ]
  },
  {
   "cell_type": "code",
   "execution_count": 86,
   "id": "6e02c2bd-aaa9-4288-9ddb-3314248432fe",
   "metadata": {},
   "outputs": [
    {
     "name": "stdout",
     "output_type": "stream",
     "text": [
      "[('b', 2), ('c', 3)]\n"
     ]
    }
   ],
   "source": [
    "### 10. common key,values \n",
    "d1 = {'a': 1, 'b': 2, 'c': 3}\n",
    "d2 = {'b': 2, 'c': 3, 'd': 4}\n",
    "items = []\n",
    "for k in d1:\n",
    "    if k in d2 and d1[k]==d2[k]:\n",
    "        items.append((k, d1[k]))\n",
    "print(items)"
   ]
  },
  {
   "cell_type": "code",
   "execution_count": 87,
   "id": "7f3543d0-0e5c-4053-975b-d39c1e4fe6b1",
   "metadata": {},
   "outputs": [
    {
     "name": "stdout",
     "output_type": "stream",
     "text": [
      "10\n"
     ]
    }
   ],
   "source": [
    "### 11. sum of the values in dict\n",
    "d = {'a': 1, 'b': 2, 'c': 3, 'd': 4}\n",
    "c = 0\n",
    "for v in d.values():\n",
    "    c=c+v\n",
    "print(c)"
   ]
  },
  {
   "cell_type": "code",
   "execution_count": 92,
   "id": "2e8a3136-a125-499c-bb9a-ff1ce18138ff",
   "metadata": {},
   "outputs": [
    {
     "name": "stdout",
     "output_type": "stream",
     "text": [
      "4\n"
     ]
    }
   ],
   "source": [
    "### 12. depth of dict\n",
    "d={'a':{'b':{'c':{'d':5}}}}\n",
    "c=0\n",
    "for i in str(d):\n",
    "    if i==\"{\":\n",
    "        c=c+1\n",
    "print(c)"
   ]
  },
  {
   "cell_type": "code",
   "execution_count": null,
   "id": "c6e9f03a-28a7-4b0f-b99b-2007e1491851",
   "metadata": {},
   "outputs": [],
   "source": []
  }
 ],
 "metadata": {
  "kernelspec": {
   "display_name": "Python 3 (ipykernel)",
   "language": "python",
   "name": "python3"
  },
  "language_info": {
   "codemirror_mode": {
    "name": "ipython",
    "version": 3
   },
   "file_extension": ".py",
   "mimetype": "text/x-python",
   "name": "python",
   "nbconvert_exporter": "python",
   "pygments_lexer": "ipython3",
   "version": "3.10.9"
  }
 },
 "nbformat": 4,
 "nbformat_minor": 5
}
