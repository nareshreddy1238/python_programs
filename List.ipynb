{
 "cells": [
  {
   "cell_type": "code",
   "execution_count": 10,
   "id": "a49276ff-f81a-427f-b700-02810a8547c5",
   "metadata": {},
   "outputs": [
    {
     "name": "stdout",
     "output_type": "stream",
     "text": [
      "[21, 2, 3, 4, 5]\n",
      "append: [21, 2, 3, 4, 5, 6]\n",
      "extend: [21, 2, 3, 4, 5, 6, 7, 8, 9]\n",
      "remove: [21, 2, 3, 5, 6, 7, 8, 9]\n",
      "pop: [21, 2, 3, 5, 6, 7, 8]\n",
      "reverse: [8, 7, 6, 5, 3, 2, 21]\n",
      "sort [2, 3, 5, 6, 7, 8, 21]\n",
      "index: 2\n",
      "count: 1\n",
      "insert: [2, 3, 5, 'hi', 6, 7, 8, 21]\n"
     ]
    }
   ],
   "source": [
    "### 1. List Methods\n",
    "l = [1,2,3,4,5]\n",
    "l[0]= 21\n",
    "print(l)\n",
    "\n",
    "# append(): add single char or number\n",
    "l.append(6) \n",
    "print(\"append:\",l)\n",
    "\n",
    "# Extend(): add another entire list\n",
    "l2=[7,8,9]\n",
    "l.extend(l2)\n",
    "print(\"extend:\",l)\n",
    "       \n",
    "# Remove(): remove the value\n",
    "l.remove(4)\n",
    "print(\"remove:\",l)\n",
    "\n",
    "# Pop(): remove last value\n",
    "l.pop()\n",
    "print(\"pop:\",l)\n",
    "\n",
    "#Reverse: Reverse the order of values\n",
    "l.reverse()\n",
    "print(\"reverse:\",l)\n",
    "\n",
    "# Sort(): sorting values\n",
    "l.sort()\n",
    "print(\"sort\",l)\n",
    "\n",
    "#Index(): Display index of value\n",
    "print(\"index:\",l.index(5))\n",
    "\n",
    "# Count(): count the value\n",
    "print(\"count:\",l.count(3))\n",
    "\n",
    "# Insert(): insert 3 index (len-1), index starts with 0\n",
    "l.insert(3,'hi') \n",
    "print(\"insert:\",l)\n"
   ]
  },
  {
   "cell_type": "code",
   "execution_count": 15,
   "id": "98ad74f8-1d9a-404b-8fd6-f6154df15502",
   "metadata": {},
   "outputs": [
    {
     "name": "stdout",
     "output_type": "stream",
     "text": [
      "[5, 4, 3, 2, 1]\n"
     ]
    }
   ],
   "source": [
    "### 2. Reverse List\n",
    "l=[1,2,3,4,5]\n",
    "l2=[]\n",
    "length= len(l)\n",
    "ind = length-1\n",
    "while ind!=-1:\n",
    "    l2.append(l[ind])\n",
    "    ind=ind-1\n",
    "print(l2)"
   ]
  },
  {
   "cell_type": "code",
   "execution_count": 16,
   "id": "1ed0b29c-81da-40a6-bba9-eaf741cef59c",
   "metadata": {},
   "outputs": [
    {
     "name": "stdout",
     "output_type": "stream",
     "text": [
      "15\n"
     ]
    }
   ],
   "source": [
    "### 3. Total count of the list\n",
    "l=[1,2,3,4,5]\n",
    "c=0\n",
    "for i in l:\n",
    "    c=c+i\n",
    "print(c)"
   ]
  },
  {
   "cell_type": "code",
   "execution_count": 17,
   "id": "15ddb7a2-76da-447a-9e1d-f2430c1be77e",
   "metadata": {},
   "outputs": [
    {
     "name": "stdout",
     "output_type": "stream",
     "text": [
      "5\n"
     ]
    }
   ],
   "source": [
    "### 3. length of the list\n",
    "l=[1,2,3,4,5]\n",
    "c=0\n",
    "for i in l:\n",
    "    c=c+1\n",
    "print(c)"
   ]
  },
  {
   "cell_type": "code",
   "execution_count": 19,
   "id": "189f8e7f-29b2-4b2a-b143-d03e3579ef80",
   "metadata": {},
   "outputs": [
    {
     "name": "stdout",
     "output_type": "stream",
     "text": [
      "[1, 2, 34, 4, 5, 6, 33, 3]\n",
      "[1, 2, 34, 4, 5, 6, 33, 3]\n"
     ]
    }
   ],
   "source": [
    "### 4. remove the duplicate values in list\n",
    "l=[1,1,2,34,4,5,6,33,5,5,3,4,2]\n",
    "l2=[]\n",
    "for i in l:\n",
    "    if i not in l2:\n",
    "        l2.append(i)\n",
    "print(l2)\n",
    "\n",
    "## another method\n",
    "print(list(set(l)))"
   ]
  },
  {
   "cell_type": "code",
   "execution_count": 23,
   "id": "7cb31e30-4a87-4e99-a0eb-291d191e22e7",
   "metadata": {},
   "outputs": [
    {
     "name": "stdout",
     "output_type": "stream",
     "text": [
      "34\n"
     ]
    }
   ],
   "source": [
    "### 5. Max value in list\n",
    "l=[1,1,2,34,4,5,6,33,5,5,3,4,2]\n",
    "m=l[0]\n",
    "\n",
    "for i in l:\n",
    "    if i>m:\n",
    "        m=i\n",
    "print(m)"
   ]
  },
  {
   "cell_type": "code",
   "execution_count": 24,
   "id": "3cfba9fd-6385-4691-9a95-4d11d1454972",
   "metadata": {},
   "outputs": [
    {
     "name": "stdout",
     "output_type": "stream",
     "text": [
      "1\n"
     ]
    }
   ],
   "source": [
    "### 6. Min value in list\n",
    "l=[1,1,2,34,4,5,6,33,5,5,3,4,2]\n",
    "m=l[0]\n",
    "\n",
    "for i in l:\n",
    "    if i<m:\n",
    "        m=i\n",
    "print(m)"
   ]
  },
  {
   "cell_type": "code",
   "execution_count": 42,
   "id": "26f24adb-2886-4f18-8e40-742a6162473b",
   "metadata": {},
   "outputs": [
    {
     "name": "stdout",
     "output_type": "stream",
     "text": [
      "[1, 6, 2, 7, 3, 8, 4, 9, 5, 10]\n"
     ]
    }
   ],
   "source": [
    "### 7. Merge two lists\n",
    "l1=[1,2,3,4,5]\n",
    "l2=[6,7,8,9,10]\n",
    "d=list(zip(l1,l2))\n",
    "l=[]\n",
    "for i in d:\n",
    "    for j in i:\n",
    "        l.append(j)  ### nested lists or tuples \n",
    "print(l)"
   ]
  },
  {
   "cell_type": "code",
   "execution_count": 36,
   "id": "0cd679ef-806a-438f-baf8-dd97df3c5e1d",
   "metadata": {},
   "outputs": [
    {
     "name": "stdout",
     "output_type": "stream",
     "text": [
      "clear the elements: []\n"
     ]
    }
   ],
   "source": [
    "### 8. clear & delete  the elements in list\n",
    "l=[1,1,2,34,4,5,6,33,5,5,3,4,2]\n",
    "l*=0\n",
    "print(\"clear the elements:\",l)\n",
    "del l"
   ]
  },
  {
   "cell_type": "code",
   "execution_count": 41,
   "id": "b4589c49-ca2b-4e87-bbee-1602612906b8",
   "metadata": {},
   "outputs": [
    {
     "name": "stdout",
     "output_type": "stream",
     "text": [
      "Original list: [1, 10, 3, 40, 5]\n",
      "After swapping elements: [1, 40, 3, 10, 5]\n"
     ]
    }
   ],
   "source": [
    "### 9. swap the elements desired location or index\n",
    "def swap_elements(lst, index1, index2):\n",
    "    lst[index1], lst[index2] = lst[index2], lst[index1]\n",
    "my_list = [1, 10, 3, 40, 5]\n",
    "print(\"Original list:\", my_list)\n",
    "swap_elements(my_list, 1, 3)\n",
    "print(\"After swapping elements:\", my_list)"
   ]
  },
  {
   "cell_type": "code",
   "execution_count": 55,
   "id": "96460881-e001-4e22-8aeb-4145d3351a63",
   "metadata": {},
   "outputs": [
    {
     "name": "stdout",
     "output_type": "stream",
     "text": [
      "[[1, 1, 2, 34], [4, 5, 6, 33], [5, 5, 3, 4]]\n"
     ]
    }
   ],
   "source": [
    "### 10. split the list into sub lists\n",
    "l=[1,1,2,34,4,5,6,33,5,5,3,4]\n",
    "l1=[]\n",
    "for i in range(0,len(l),4): ## range(start,stop,step)\n",
    "    l1.append(l[i:i+4])     ## exclusive: ending index of sub list \n",
    "print(l1)\n",
    "## note: step & index exclusive value "
   ]
  },
  {
   "cell_type": "code",
   "execution_count": 64,
   "id": "250e098c-0759-4e4e-84ca-c03facd444ec",
   "metadata": {},
   "outputs": [
    {
     "name": "stdout",
     "output_type": "stream",
     "text": [
      "[1, 2, 3, 6, 7, 8]\n",
      "[6, 7, 8, 1, 2, 3]\n"
     ]
    },
    {
     "data": {
      "text/plain": [
       "[1, 2, 3, 6, 7, 8]"
      ]
     },
     "execution_count": 64,
     "metadata": {},
     "output_type": "execute_result"
    }
   ],
   "source": [
    "### 11. Two list combined/ combined with front side\n",
    "l1=[1,2,3]\n",
    "l2=[6,7,8]\n",
    "print(l1+l2)\n",
    "print(l2+l1)\n",
    "l1.extend(l2)\n",
    "l1"
   ]
  },
  {
   "cell_type": "code",
   "execution_count": 67,
   "id": "12aa094a-eea0-4edc-a8d9-352ef9c22642",
   "metadata": {},
   "outputs": [
    {
     "name": "stdin",
     "output_type": "stream",
     "text": [
      "Enter Index value: 6\n"
     ]
    },
    {
     "name": "stdout",
     "output_type": "stream",
     "text": [
      "[1, 1, 2, 34, 4, 5, 33, 5, 5, 3, 4]\n"
     ]
    }
   ],
   "source": [
    "### 12. Remove the ith index value of list\n",
    "n=int(input(\"Enter Index value:\"))\n",
    "l=[1,1,2,34,4,5,6,33,5,5,3,4]\n",
    "ls=[]\n",
    "for i in l:\n",
    "    if i!=n:\n",
    "        ls.append(i)\n",
    "print(ls)"
   ]
  },
  {
   "cell_type": "code",
   "execution_count": 69,
   "id": "83d98d82-9f91-4ed9-9149-0f481e142eb7",
   "metadata": {},
   "outputs": [
    {
     "name": "stdout",
     "output_type": "stream",
     "text": [
      "[1, 2, 3, 6]\n"
     ]
    }
   ],
   "source": [
    "### 13. Common values in list\n",
    "l1=[1, 2, 3, 4,5,6]\n",
    "l2=[6, 7, 8, 1, 2, 3]\n",
    "l=[]\n",
    "for i in l1:\n",
    "    for j in l2:\n",
    "        if i==j:\n",
    "            l.append(i)\n",
    "print(l)"
   ]
  },
  {
   "cell_type": "code",
   "execution_count": 74,
   "id": "43211ac1-a92f-4bd9-bff7-6696c1b9f5b7",
   "metadata": {},
   "outputs": [
    {
     "data": {
      "text/plain": [
       "'113344'"
      ]
     },
     "execution_count": 74,
     "metadata": {},
     "output_type": "execute_result"
    }
   ],
   "source": [
    "### 14. List of values into integer\n",
    "l=[11,33,44]\n",
    "\"\".join(map(str,l))"
   ]
  },
  {
   "cell_type": "code",
   "execution_count": 76,
   "id": "72f31f1b-9084-410f-a2b2-621bc0d0cd8c",
   "metadata": {},
   "outputs": [
    {
     "name": "stdout",
     "output_type": "stream",
     "text": [
      "[{}, {}, {}, {}, {}]\n"
     ]
    }
   ],
   "source": [
    "### 15.create empty dict in list\n",
    "l=[]\n",
    "for i in range(5):\n",
    "    l.append({})\n",
    "print(l)\n"
   ]
  },
  {
   "cell_type": "code",
   "execution_count": 86,
   "id": "9edb1ce2-a8ce-462e-876e-4a53e13a529c",
   "metadata": {},
   "outputs": [
    {
     "name": "stdout",
     "output_type": "stream",
     "text": [
      "1 2 3 4 5\n"
     ]
    },
    {
     "data": {
      "text/plain": [
       "'1 2 3 4 5'"
      ]
     },
     "execution_count": 86,
     "metadata": {},
     "output_type": "execute_result"
    }
   ],
   "source": [
    "### 16. space separate elements\n",
    "l=[1,2,3,4,5]\n",
    "print(*l)\n",
    "\n",
    "## another method\n",
    "\" \".join(map(str,l))\n"
   ]
  }
 ],
 "metadata": {
  "kernelspec": {
   "display_name": "Python 3 (ipykernel)",
   "language": "python",
   "name": "python3"
  },
  "language_info": {
   "codemirror_mode": {
    "name": "ipython",
    "version": 3
   },
   "file_extension": ".py",
   "mimetype": "text/x-python",
   "name": "python",
   "nbconvert_exporter": "python",
   "pygments_lexer": "ipython3",
   "version": "3.10.9"
  }
 },
 "nbformat": 4,
 "nbformat_minor": 5
}
